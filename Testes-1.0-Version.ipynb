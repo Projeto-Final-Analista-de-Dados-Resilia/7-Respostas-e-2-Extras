{
  "nbformat": 4,
  "nbformat_minor": 0,
  "metadata": {
    "colab": {
      "provenance": []
    },
    "kernelspec": {
      "name": "python3",
      "display_name": "Python 3"
    },
    "language_info": {
      "name": "python"
    }
  },
  "cells": [
    {
      "cell_type": "markdown",
      "source": [
        "# Análise de Dados de Criptomoedas\n",
        "### Importação de Bibliotecas\n",
        "### Leitura dos Dados\n",
        "### Vamos ler os dados de 10 criptomoedas diferentes de arquivos CSV."
      ],
      "metadata": {
        "id": "OaQnEdcc-WrY"
      }
    },
    {
      "cell_type": "code",
      "execution_count": null,
      "metadata": {
        "id": "2Qje6HUvsxaU"
      },
      "outputs": [],
      "source": [
        "# Importação das bibliotecas\n",
        "import pandas as pd\n",
        "import matplotlib.pyplot as plt\n",
        "import seaborn as sns\n",
        "\n",
        "# Leitura do conjunto de dados\n",
        "\n",
        "df1 = pd.read_csv('coin_BinanceCoin.csv')\n",
        "df2 = pd.read_csv('coin_Cardano.csv')\n",
        "df3 = pd.read_csv('coin_ChainLink.csv')\n",
        "df4 = pd.read_csv('coin_CryptocomCoin.csv')\n",
        "df5 = pd.read_csv('coin_EOS.csv')\n",
        "df6 = pd.read_csv('coin_Ethereum.csv')\n",
        "df7 = pd.read_csv('coin_Iota.csv')\n",
        "df8 = pd.read_csv('coin_NEM.csv')\n",
        "df9 = pd.read_csv('coin_Tron.csv')\n",
        "df10 = pd.read_csv('coin_USDCoin.csv')\n",
        "\n",
        "df = pd.concat([ df1, df2, df3 ,df4, df5, df6, df7, df8, df9, df10])"
      ]
    },
    {
      "cell_type": "markdown",
      "source": [
        "# Pré-processamento\n",
        "### Vamos concatenar todos os dataframes em um único dataframe para facilitar a análise."
      ],
      "metadata": {
        "id": "TLyNXNgJkRn8"
      }
    },
    {
      "cell_type": "code",
      "source": [
        "df = pd.concat([ df1, df2, df3 ,df4, df5, df6, df7, df8, df9, df10], axis=1)\n",
        "print(df)\n"
      ],
      "metadata": {
        "colab": {
          "base_uri": "https://localhost:8080/"
        },
        "id": "wCeUwOaFyCHj",
        "outputId": "57211de9-5a1a-4599-d099-9f3a818c188b"
      },
      "execution_count": null,
      "outputs": [
        {
          "output_type": "stream",
          "name": "stdout",
          "text": [
            "      SNo          Name Symbol                 Date      High       Low  \\\n",
            "0     1.0  Binance Coin    BNB  2017-07-26 23:59:59  0.109013  0.099266   \n",
            "1     2.0  Binance Coin    BNB  2017-07-27 23:59:59  0.108479  0.100888   \n",
            "2     3.0  Binance Coin    BNB  2017-07-28 23:59:59  0.109019  0.101473   \n",
            "3     4.0  Binance Coin    BNB  2017-07-29 23:59:59  0.111264  0.101108   \n",
            "4     5.0  Binance Coin    BNB  2017-07-30 23:59:59  0.108138  0.103162   \n",
            "...   ...           ...    ...                  ...       ...       ...   \n",
            "2283  NaN           NaN    NaN                  NaN       NaN       NaN   \n",
            "2284  NaN           NaN    NaN                  NaN       NaN       NaN   \n",
            "2285  NaN           NaN    NaN                  NaN       NaN       NaN   \n",
            "2286  NaN           NaN    NaN                  NaN       NaN       NaN   \n",
            "2287  NaN           NaN    NaN                  NaN       NaN       NaN   \n",
            "\n",
            "          Open     Close    Volume   Marketcap  ...  SNo      Name Symbol  \\\n",
            "0     0.105893  0.105138  200395.0  10513800.0  ...  1.0  USD Coin   USDC   \n",
            "1     0.105108  0.107737  344499.0  10773700.0  ...  2.0  USD Coin   USDC   \n",
            "2     0.107632  0.104067  342568.0  10406700.0  ...  3.0  USD Coin   USDC   \n",
            "3     0.104782  0.107811  340218.0  10781100.0  ...  4.0  USD Coin   USDC   \n",
            "4     0.107935  0.106414  224261.0  10641400.0  ...  5.0  USD Coin   USDC   \n",
            "...        ...       ...       ...         ...  ...  ...       ...    ...   \n",
            "2283       NaN       NaN       NaN         NaN  ...  NaN       NaN    NaN   \n",
            "2284       NaN       NaN       NaN         NaN  ...  NaN       NaN    NaN   \n",
            "2285       NaN       NaN       NaN         NaN  ...  NaN       NaN    NaN   \n",
            "2286       NaN       NaN       NaN         NaN  ...  NaN       NaN    NaN   \n",
            "2287       NaN       NaN       NaN         NaN  ...  NaN       NaN    NaN   \n",
            "\n",
            "                     Date     High      Low     Open    Close     Volume  \\\n",
            "0     2018-10-09 23:59:59  1.00833  1.00003  1.00427  1.00686   108803.0   \n",
            "1     2018-10-10 23:59:59  1.01908  1.00397  1.00494  1.00962   711783.0   \n",
            "2     2018-10-11 23:59:59  1.03123  1.00173  1.00994  1.00978  4177290.0   \n",
            "3     2018-10-12 23:59:59  1.01871  1.00114  1.00861  1.01272  1322240.0   \n",
            "4     2018-10-13 23:59:59  1.02029  1.00355  1.01445  1.00743   698507.0   \n",
            "...                   ...      ...      ...      ...      ...        ...   \n",
            "2283                  NaN      NaN      NaN      NaN      NaN        NaN   \n",
            "2284                  NaN      NaN      NaN      NaN      NaN        NaN   \n",
            "2285                  NaN      NaN      NaN      NaN      NaN        NaN   \n",
            "2286                  NaN      NaN      NaN      NaN      NaN        NaN   \n",
            "2287                  NaN      NaN      NaN      NaN      NaN        NaN   \n",
            "\n",
            "      Marketcap  \n",
            "0           0.0  \n",
            "1           0.0  \n",
            "2           0.0  \n",
            "3           0.0  \n",
            "4           0.0  \n",
            "...         ...  \n",
            "2283        NaN  \n",
            "2284        NaN  \n",
            "2285        NaN  \n",
            "2286        NaN  \n",
            "2287        NaN  \n",
            "\n",
            "[2288 rows x 100 columns]\n"
          ]
        }
      ]
    },
    {
      "cell_type": "markdown",
      "source": [
        "# Análise Exploratória\n",
        "### Primeiro vamos analisar algumas estatísticas descritivas básicas dos dados."
      ],
      "metadata": {
        "id": "FrW_dtUKkt4_"
      }
    },
    {
      "cell_type": "code",
      "source": [
        "# Análise do comportamento geral dos valores\n",
        "print(df.describe())\n"
      ],
      "metadata": {
        "colab": {
          "base_uri": "https://localhost:8080/"
        },
        "id": "OBHUV2f7VhFs",
        "outputId": "78a42b73-01c9-4cd9-a9da-da07bfdb2608"
      },
      "execution_count": null,
      "outputs": [
        {
          "output_type": "stream",
          "name": "stdout",
          "text": [
            "               sno         high          low         open        close  \\\n",
            "count  1442.000000  1442.000000  1442.000000  1442.000000  1442.000000   \n",
            "mean    721.500000    54.764100    49.165813    52.028231    52.250308   \n",
            "std     416.413857   121.675817   108.118454   115.170060   115.390917   \n",
            "min       1.000000     0.101211     0.096109     0.099721     0.099867   \n",
            "25%     361.250000    10.390750     9.677340    10.037860    10.068350   \n",
            "50%     721.500000    16.592114    15.727250    16.210328    16.210569   \n",
            "75%    1081.750000    28.240910    26.963038    27.669888    27.691107   \n",
            "max    1442.000000   690.931965   631.465298   676.315905   675.684077   \n",
            "\n",
            "             volume     marketcap          sno         high          low  ...  \\\n",
            "count  1.442000e+03  1.442000e+03  1374.000000  1374.000000  1374.000000  ...   \n",
            "mean   6.269804e+08  7.835575e+09   687.500000     0.269807     0.239710  ...   \n",
            "std    1.479775e+09  1.780041e+10   396.783946     0.433523     0.380928  ...   \n",
            "min    9.284190e+03  9.986680e+06     1.000000     0.021050     0.017620  ...   \n",
            "25%    5.089148e+07  1.157863e+09   344.250000     0.047565     0.044601  ...   \n",
            "50%    1.981830e+08  2.451099e+09   687.500000     0.090274     0.083164  ...   \n",
            "75%    3.942378e+08  4.061743e+09  1030.750000     0.194519     0.172442  ...   \n",
            "max    1.798295e+10  1.036722e+11  1374.000000     2.461766     2.013285  ...   \n",
            "\n",
            "             close        volume     marketcap          sno         high  \\\n",
            "count  1392.000000  1.392000e+03  1.392000e+03  1002.000000  1002.000000   \n",
            "mean      0.032585  9.459435e+08  2.224104e+09   501.500000     1.010327   \n",
            "std       0.027562  1.240489e+09  1.932420e+09   289.396786     0.011015   \n",
            "min       0.001427  2.647480e+04  0.000000e+00     1.000000     1.000082   \n",
            "25%       0.016804  1.975095e+08  1.120512e+09   251.250000     1.001768   \n",
            "50%       0.024627  6.496156e+08  1.656501e+09   501.500000     1.007303   \n",
            "75%       0.036416  1.242293e+09  2.431134e+09   751.750000     1.015262   \n",
            "max       0.220555  1.397316e+10  1.450109e+10  1002.000000     1.113730   \n",
            "\n",
            "               low         open        close        volume     marketcap  \n",
            "count  1002.000000  1002.000000  1002.000000  1.002000e+03  1.002000e+03  \n",
            "mean      0.998496     1.003767     1.003791  6.513472e+08  3.029697e+09  \n",
            "std       0.007548     0.006843     0.006822  8.595553e+08  5.541499e+09  \n",
            "min       0.929222     0.967938     0.970124  1.088030e+05  0.000000e+00  \n",
            "25%       0.996038     1.000019     1.000017  1.058256e+08  3.592595e+08  \n",
            "50%       0.999263     1.001087     1.001152  3.178717e+08  4.838460e+08  \n",
            "75%       1.000149     1.005420     1.005395  7.773591e+08  2.807820e+09  \n",
            "max       1.023058     1.043627     1.044029  8.053431e+09  2.579198e+10  \n",
            "\n",
            "[8 rows x 70 columns]\n"
          ]
        }
      ]
    },
    {
      "cell_type": "markdown",
      "source": [
        "# Podemos ver a média, desvio padrão, valores mínimos e máximos, quartis etc.\n",
        "### Isso nos dá uma visão geral da distribuição dos dados.\n",
        "\n",
        "### Agora vamos analisar a média dos valores para cada criptomoeda:"
      ],
      "metadata": {
        "id": "uWJKJiA6lI9M"
      }
    },
    {
      "cell_type": "code",
      "source": [
        "\n",
        "# Cálculo da média dos valores\n",
        "mean_values = df.mean()\n",
        "print(mean_values)\n",
        "\n"
      ],
      "metadata": {
        "colab": {
          "base_uri": "https://localhost:8080/"
        },
        "id": "7YOruQmVVvVk",
        "outputId": "d8cdacce-db35-4452-be61-3890e89c4f18"
      },
      "execution_count": null,
      "outputs": [
        {
          "output_type": "stream",
          "name": "stdout",
          "text": [
            "SNo          7.215000e+02\n",
            "High         5.476410e+01\n",
            "Low          4.916581e+01\n",
            "Open         5.202823e+01\n",
            "Close        5.225031e+01\n",
            "                 ...     \n",
            "Low          9.984959e-01\n",
            "Open         1.003767e+00\n",
            "Close        1.003791e+00\n",
            "Volume       6.513472e+08\n",
            "Marketcap    3.029697e+09\n",
            "Length: 70, dtype: float64\n"
          ]
        },
        {
          "output_type": "stream",
          "name": "stderr",
          "text": [
            "<ipython-input-89-eec85d3cdcac>:2: FutureWarning: The default value of numeric_only in DataFrame.mean is deprecated. In a future version, it will default to False. In addition, specifying 'numeric_only=None' is deprecated. Select only valid columns or specify the value of numeric_only to silence this warning.\n",
            "  mean_values = df.mean()\n"
          ]
        }
      ]
    },
    {
      "cell_type": "markdown",
      "source": [
        "# Isso nos mostra os valores médios de preço fechamento para cada cripto.\n",
        "\n",
        "### Análise do Comportamento Anual\n",
        "Vamos agregar os dados por ano para analisar variações anuais."
      ],
      "metadata": {
        "id": "dzNwW4h2lV9f"
      }
    },
    {
      "cell_type": "code",
      "source": [
        "print(df)\n",
        "\n"
      ],
      "metadata": {
        "colab": {
          "base_uri": "https://localhost:8080/"
        },
        "id": "AK--5aL2tiGM",
        "outputId": "128f6ae6-45f4-437f-b413-209558f91e9a"
      },
      "execution_count": null,
      "outputs": [
        {
          "output_type": "stream",
          "name": "stdout",
          "text": [
            "      col_0         col_1 col_2                col_3     col_4     col_5  \\\n",
            "0       1.0  Binance Coin   BNB  2017-07-26 23:59:59  0.109013  0.099266   \n",
            "1       2.0  Binance Coin   BNB  2017-07-27 23:59:59  0.108479  0.100888   \n",
            "2       3.0  Binance Coin   BNB  2017-07-28 23:59:59  0.109019  0.101473   \n",
            "3       4.0  Binance Coin   BNB  2017-07-29 23:59:59  0.111264  0.101108   \n",
            "4       5.0  Binance Coin   BNB  2017-07-30 23:59:59  0.108138  0.103162   \n",
            "...     ...           ...   ...                  ...       ...       ...   \n",
            "2283    NaN           NaN   NaN                  NaN       NaN       NaN   \n",
            "2284    NaN           NaN   NaN                  NaN       NaN       NaN   \n",
            "2285    NaN           NaN   NaN                  NaN       NaN       NaN   \n",
            "2286    NaN           NaN   NaN                  NaN       NaN       NaN   \n",
            "2287    NaN           NaN   NaN                  NaN       NaN       NaN   \n",
            "\n",
            "          col_6     col_7     col_8       col_9  ...  col_90    col_91 col_92  \\\n",
            "0    1970-01-01  0.105138  200395.0  10513800.0  ...     1.0  USD Coin   USDC   \n",
            "1    1970-01-01  0.107737  344499.0  10773700.0  ...     2.0  USD Coin   USDC   \n",
            "2    1970-01-01  0.104067  342568.0  10406700.0  ...     3.0  USD Coin   USDC   \n",
            "3    1970-01-01  0.107811  340218.0  10781100.0  ...     4.0  USD Coin   USDC   \n",
            "4    1970-01-01  0.106414  224261.0  10641400.0  ...     5.0  USD Coin   USDC   \n",
            "...         ...       ...       ...         ...  ...     ...       ...    ...   \n",
            "2283        NaT       NaN       NaN         NaN  ...     NaN       NaN    NaN   \n",
            "2284        NaT       NaN       NaN         NaN  ...     NaN       NaN    NaN   \n",
            "2285        NaT       NaN       NaN         NaN  ...     NaN       NaN    NaN   \n",
            "2286        NaT       NaN       NaN         NaN  ...     NaN       NaN    NaN   \n",
            "2287        NaT       NaN       NaN         NaN  ...     NaN       NaN    NaN   \n",
            "\n",
            "                   col_93   col_94   col_95   col_96   col_97     col_98  \\\n",
            "0     2018-10-09 23:59:59  1.00833  1.00003  1.00427  1.00686   108803.0   \n",
            "1     2018-10-10 23:59:59  1.01908  1.00397  1.00494  1.00962   711783.0   \n",
            "2     2018-10-11 23:59:59  1.03123  1.00173  1.00994  1.00978  4177290.0   \n",
            "3     2018-10-12 23:59:59  1.01871  1.00114  1.00861  1.01272  1322240.0   \n",
            "4     2018-10-13 23:59:59  1.02029  1.00355  1.01445  1.00743   698507.0   \n",
            "...                   ...      ...      ...      ...      ...        ...   \n",
            "2283                  NaN      NaN      NaN      NaN      NaN        NaN   \n",
            "2284                  NaN      NaN      NaN      NaN      NaN        NaN   \n",
            "2285                  NaN      NaN      NaN      NaN      NaN        NaN   \n",
            "2286                  NaN      NaN      NaN      NaN      NaN        NaN   \n",
            "2287                  NaN      NaN      NaN      NaN      NaN        NaN   \n",
            "\n",
            "      col_99  \n",
            "0        0.0  \n",
            "1        0.0  \n",
            "2        0.0  \n",
            "3        0.0  \n",
            "4        0.0  \n",
            "...      ...  \n",
            "2283     NaN  \n",
            "2284     NaN  \n",
            "2285     NaN  \n",
            "2286     NaN  \n",
            "2287     NaN  \n",
            "\n",
            "[2288 rows x 100 columns]\n"
          ]
        }
      ]
    },
    {
      "cell_type": "code",
      "source": [
        "# Exibir as primeiras linhas do DataFrame para verificar as colunas disponíveis\n",
        "print(df.head())\n"
      ],
      "metadata": {
        "colab": {
          "base_uri": "https://localhost:8080/"
        },
        "id": "j4BrHTcxH8mI",
        "outputId": "25f884b6-5c73-41d6-a50d-69c62bdc23b8"
      },
      "execution_count": null,
      "outputs": [
        {
          "output_type": "stream",
          "name": "stdout",
          "text": [
            "   col_0         col_1 col_2                col_3     col_4     col_5  \\\n",
            "0    1.0  Binance Coin   BNB  2017-07-26 23:59:59  0.109013  0.099266   \n",
            "1    2.0  Binance Coin   BNB  2017-07-27 23:59:59  0.108479  0.100888   \n",
            "2    3.0  Binance Coin   BNB  2017-07-28 23:59:59  0.109019  0.101473   \n",
            "3    4.0  Binance Coin   BNB  2017-07-29 23:59:59  0.111264  0.101108   \n",
            "4    5.0  Binance Coin   BNB  2017-07-30 23:59:59  0.108138  0.103162   \n",
            "\n",
            "       col_6     col_7     col_8       col_9  ...  col_90    col_91 col_92  \\\n",
            "0 1970-01-01  0.105138  200395.0  10513800.0  ...     1.0  USD Coin   USDC   \n",
            "1 1970-01-01  0.107737  344499.0  10773700.0  ...     2.0  USD Coin   USDC   \n",
            "2 1970-01-01  0.104067  342568.0  10406700.0  ...     3.0  USD Coin   USDC   \n",
            "3 1970-01-01  0.107811  340218.0  10781100.0  ...     4.0  USD Coin   USDC   \n",
            "4 1970-01-01  0.106414  224261.0  10641400.0  ...     5.0  USD Coin   USDC   \n",
            "\n",
            "                col_93   col_94   col_95   col_96   col_97     col_98  col_99  \n",
            "0  2018-10-09 23:59:59  1.00833  1.00003  1.00427  1.00686   108803.0     0.0  \n",
            "1  2018-10-10 23:59:59  1.01908  1.00397  1.00494  1.00962   711783.0     0.0  \n",
            "2  2018-10-11 23:59:59  1.03123  1.00173  1.00994  1.00978  4177290.0     0.0  \n",
            "3  2018-10-12 23:59:59  1.01871  1.00114  1.00861  1.01272  1322240.0     0.0  \n",
            "4  2018-10-13 23:59:59  1.02029  1.00355  1.01445  1.00743   698507.0     0.0  \n",
            "\n",
            "[5 rows x 100 columns]\n"
          ]
        }
      ]
    },
    {
      "cell_type": "code",
      "source": [
        "# Calcular a matriz de correlação usando a coluna 'col_4' como os preços de fechamento\n",
        "correlation_matrix = df.pivot_table(index='col_3', columns='col_1', values='col_4').corr()\n",
        "\n",
        "# Visualizar a matriz de correlação\n",
        "plt.figure(figsize=(10, 8))\n",
        "sns.heatmap(correlation_matrix, annot=True, cmap='coolwarm', fmt=\".2f\")\n",
        "plt.title('Matriz de Correlação entre Criptomoedas')\n",
        "plt.show()\n"
      ],
      "metadata": {
        "colab": {
          "base_uri": "https://localhost:8080/",
          "height": 718
        },
        "id": "zdtJ9Q7LGPD9",
        "outputId": "5ff18df8-0cab-4ae2-e90a-0e51a6c7463e"
      },
      "execution_count": null,
      "outputs": [
        {
          "output_type": "display_data",
          "data": {
            "text/plain": [
              "<Figure size 1000x800 with 2 Axes>"
            ],
            "image/png": "[encoded data removed]"
          },
          "metadata": {}
        }
      ]
    },
    {
      "cell_type": "code",
      "source": [],
      "metadata": {
        "id": "w_KFfxxCHG_e"
      },
      "execution_count": null,
      "outputs": []
    },
    {
      "cell_type": "code",
      "source": [
        "# Encontrar a moeda com a menor taxa de retorno média\n",
        "moeda_menos_interessante = average_returns.idxmin()\n"
      ],
      "metadata": {
        "id": "rVXsTJzXEkwN"
      },
      "execution_count": null,
      "outputs": []
    },
    {
      "cell_type": "code",
      "source": [
        "df['Date'] = pd.to_datetime(df['Date'])"
      ],
      "metadata": {
        "id": "eZ18CfAlr9oR"
      },
      "execution_count": null,
      "outputs": []
    },
    {
      "cell_type": "code",
      "source": [
        "df['Date']\n",
        "df['Ano'] = pd.to_datetime(df['Date']).dt.year"
      ],
      "metadata": {
        "id": "lhEdl9dgrNiZ"
      },
      "execution_count": null,
      "outputs": []
    },
    {
      "cell_type": "code",
      "source": [
        "df = df.rename(columns=str.lower)"
      ],
      "metadata": {
        "id": "4PDOz1VFow1k"
      },
      "execution_count": null,
      "outputs": []
    },
    {
      "cell_type": "code",
      "source": [
        "df['Date']"
      ],
      "metadata": {
        "id": "fiQ6Db58p5yV"
      },
      "execution_count": null,
      "outputs": []
    },
    {
      "cell_type": "code",
      "source": [
        "df2 = df.loc[:, []]\n",
        "df2['date'] = df['Date']\n",
        "\n",
        "ano = pd.to_datetime(df2['date']).dt.year.to_frame('ano')\n",
        "df2 = df2.join(ano)"
      ],
      "metadata": {
        "id": "1K2JGeXcozv2"
      },
      "execution_count": null,
      "outputs": []
    },
    {
      "cell_type": "code",
      "source": [
        "df['Ano_date'] = pd.to_datetime(df['Date']).dt.year"
      ],
      "metadata": {
        "id": "TvccVwrDnY4h"
      },
      "execution_count": null,
      "outputs": []
    },
    {
      "cell_type": "code",
      "source": [
        "ano = pd.to_datetime(df['Date']).dt.year.to_frame('Ano')\n",
        "df = df.join(ano)"
      ],
      "metadata": {
        "id": "Z-FBA1Q5n4J8"
      },
      "execution_count": null,
      "outputs": []
    },
    {
      "cell_type": "code",
      "source": [
        "# Os resultados estão sendo armazenados nas variáveis max_drop e max_increase.\n",
        "df['Ano'] = pd.to_datetime(df['Date']).dt.year\n",
        "df['Variation'] = df['Close'].pct_change()\n",
        "\n",
        "max_drop = df.groupby('Ano')['Variation'].min()\n",
        "max_increase = df.groupby('Ano')['Variation'].max()\n",
        "\n"
      ],
      "metadata": {
        "id": "3A8ttUZWSWHR"
      },
      "execution_count": null,
      "outputs": []
    },
    {
      "cell_type": "markdown",
      "source": [
        "# 777777777777777777777777777777777777777777777777777777777777777"
      ],
      "metadata": {
        "id": "p69nBHPZlcTo"
      }
    },
    {
      "cell_type": "code",
      "source": [
        "# imprimindo as variáveis para visualizar os resultados.\n",
        "print(\"Maior queda por ano:\")\n",
        "print(max_drop)\n"
      ],
      "metadata": {
        "id": "YoovkFoDScUf"
      },
      "execution_count": null,
      "outputs": []
    },
    {
      "cell_type": "code",
      "source": [
        "# imprimindo as variáveis para visualizar os resultados.\n",
        "print(\"\\nMaior aumento por ano:\")\n",
        "print(max_increase)\n"
      ],
      "metadata": {
        "id": "h9Hw62ujVIDJ"
      },
      "execution_count": null,
      "outputs": []
    },
    {
      "cell_type": "code",
      "source": [
        "\n",
        "df = pd.concat([df1, df2, df3, df4, df5, df6, df7, df8, df9, df10], ignore_index=True)\n",
        "print(df)\n"
      ],
      "metadata": {
        "id": "QdpAaxxdx7IO"
      },
      "execution_count": null,
      "outputs": []
    },
    {
      "cell_type": "markdown",
      "source": [
        "# **2 Valores Médios das Criptomoedas**\n",
        "\n",
        "Agora, vamos calcular os valores médios para todas as criptomoedas ao longo do período analisado.\n"
      ],
      "metadata": {
        "id": "emAtCG5VxO0n"
      }
    },
    {
      "cell_type": "code",
      "source": [
        "\n",
        "df['Ano'] = pd.to_datetime(df['Date']).dt.year"
      ],
      "metadata": {
        "id": "0L9dwcGkVOxF"
      },
      "execution_count": null,
      "outputs": []
    },
    {
      "cell_type": "markdown",
      "source": [
        "# Agora podemos calcular a maior queda e maior aumento por ano:\n",
        "\n",
        "### Isso nos permite ver picos e vales no comportamento das criptomoedas ao longo do tempo."
      ],
      "metadata": {
        "id": "T_EsKXWglsFr"
      }
    },
    {
      "cell_type": "code",
      "source": [
        "df = df.reset_index(drop=True)"
      ],
      "metadata": {
        "id": "TWTY90WhwyzA"
      },
      "execution_count": null,
      "outputs": []
    },
    {
      "cell_type": "code",
      "source": [
        "df.columns = [f'col_{i}' for i in range(len(df.columns))]"
      ],
      "metadata": {
        "id": "7ru9BE01w_xn"
      },
      "execution_count": null,
      "outputs": []
    },
    {
      "cell_type": "code",
      "source": [
        "df['col_6'] = pd.to_datetime(df['col_6'])"
      ],
      "metadata": {
        "id": "wMK_44MsxG6p"
      },
      "execution_count": null,
      "outputs": []
    },
    {
      "cell_type": "code",
      "source": [
        "dates = df['col_6']\n",
        "dates = pd.to_datetime(dates)"
      ],
      "metadata": {
        "id": "Jb29DBuExPXV"
      },
      "execution_count": null,
      "outputs": []
    },
    {
      "cell_type": "code",
      "source": [
        "df_date['Date'] = pd.to_datetime(df_date['Date'])"
      ],
      "metadata": {
        "id": "36kf_6wPxWJU"
      },
      "execution_count": null,
      "outputs": []
    },
    {
      "cell_type": "code",
      "source": [
        "df['Variation'] = df['Close'].pct_change()\n",
        "\n",
        "max_drop = df.groupby('Ano')['Variation'].min()\n",
        "max_increase = df.groupby('Ano')['Variation'].max()\n",
        "\n",
        "print(\"Maior queda por ano:\")\n",
        "print(max_drop)\n",
        "\n",
        "print(\"\\nMaior aumento por ano:\")\n",
        "print(max_increase)"
      ],
      "metadata": {
        "id": "TKzeOk6wl4uw"
      },
      "execution_count": null,
      "outputs": []
    },
    {
      "cell_type": "code",
      "source": [
        "df2 = pd.DataFrame()\n",
        "df2['dates'] = pd.to_datetime(df['Date'])"
      ],
      "metadata": {
        "id": "dwi5RF-gyPxV"
      },
      "execution_count": null,
      "outputs": []
    },
    {
      "cell_type": "code",
      "source": [
        "df2['dates'] = pd.to_datetime(df['Date'].copy())"
      ],
      "metadata": {
        "id": "317teCZMyXE2"
      },
      "execution_count": null,
      "outputs": []
    },
    {
      "cell_type": "code",
      "source": [
        "df2['dates'] = pd.to_datetime(df['Date'].fillna('').copy())"
      ],
      "metadata": {
        "id": "VuG9_mOsw2jt"
      },
      "execution_count": null,
      "outputs": []
    },
    {
      "cell_type": "code",
      "source": [
        "# seja a coluna que contém a data\n",
        "df[''] = pd.to_datetime(df['Date']).dt.day_name()\n",
        "mean_by_weekday = df.groupby('BinanceCoin')['Close'].mean()\n",
        "\n"
      ],
      "metadata": {
        "id": "KYtX0eq1-ZNU"
      },
      "execution_count": null,
      "outputs": []
    },
    {
      "cell_type": "code",
      "source": [
        "duplicates = df[df.duplicated(subset=['Date'])]\n",
        "print(duplicates)\n"
      ],
      "metadata": {
        "colab": {
          "base_uri": "https://localhost:8080/"
        },
        "id": "MNQMxAYzNveX",
        "outputId": "4d869190-2ba8-4337-aeab-07833efa5d25"
      },
      "execution_count": null,
      "outputs": [
        {
          "output_type": "stream",
          "name": "stdout",
          "text": [
            "Empty DataFrame\n",
            "Columns: [SNo, Name, Symbol, Date, High, Low, Open, Close, Volume, Marketcap, SNo, Name, Symbol, Date, High, Low, Open, Close, Volume, Marketcap, SNo, Name, Symbol, Date, High, Low, Open, Close, Volume, Marketcap, SNo, Name, Symbol, Date, High, Low, Open, Close, Volume, Marketcap, SNo, Name, Symbol, Date, High, Low, Open, Close, Volume, Marketcap, SNo, Name, Symbol, Date, High, Low, Open, Close, Volume, Marketcap, SNo, Name, Symbol, Date, High, Low, Open, Close, Volume, Marketcap, SNo, Name, Symbol, Date, High, Low, Open, Close, Volume, Marketcap, SNo, Name, Symbol, Date, High, Low, Open, Close, Volume, Marketcap, SNo, Name, Symbol, Date, High, Low, Open, Close, Volume, Marketcap]\n",
            "Index: []\n",
            "\n",
            "[0 rows x 100 columns]\n"
          ]
        }
      ]
    },
    {
      "cell_type": "code",
      "source": [
        "\n"
      ],
      "metadata": {
        "id": "Pg6o99qlX3yE"
      },
      "execution_count": null,
      "outputs": []
    },
    {
      "cell_type": "code",
      "source": [],
      "metadata": {
        "id": "_az45igmWOIO"
      },
      "execution_count": null,
      "outputs": []
    },
    {
      "cell_type": "code",
      "source": [
        "df = df.drop_duplicates(subset=['Date'], keep='first')\n"
      ],
      "metadata": {
        "id": "VIXHSunOO0jg"
      },
      "execution_count": null,
      "outputs": []
    },
    {
      "cell_type": "code",
      "source": [
        "valorizacao_media = df.groupby('')['Var'].mean()"
      ],
      "metadata": {
        "id": "LwIo03cdO5TA"
      },
      "execution_count": null,
      "outputs": []
    },
    {
      "cell_type": "code",
      "source": [
        "df['Date'] = pd.to_datetime(df['Date'])\n",
        "print(df)\n"
      ],
      "metadata": {
        "id": "jFo8LIOgLK7B"
      },
      "execution_count": null,
      "outputs": []
    },
    {
      "cell_type": "code",
      "source": [
        "print(df.groupby('Marketcap')['Var'].mean().sort_values(ascending=False))"
      ],
      "metadata": {
        "id": "OsDtF6DXKQcn"
      },
      "execution_count": null,
      "outputs": []
    },
    {
      "cell_type": "code",
      "source": [
        "df['Dia'] = pd.to_datetime(df['Date']).dt.dayofweek\n",
        "\n",
        "df.groupby('Dia').mean()['Close'].plot(kind='bar')"
      ],
      "metadata": {
        "id": "h_PdwcjKKR0H"
      },
      "execution_count": null,
      "outputs": []
    },
    {
      "cell_type": "code",
      "source": [
        "print(df.groupby('Coin')['Var'].mean().sort_values())"
      ],
      "metadata": {
        "id": "Zjy5H3wgKZwT"
      },
      "execution_count": null,
      "outputs": []
    },
    {
      "cell_type": "code",
      "source": [
        "valorizacao_media = df.groupby('Coin')['Var'].mean()"
      ],
      "metadata": {
        "id": "ee-jdhqoKnjH"
      },
      "execution_count": null,
      "outputs": []
    },
    {
      "cell_type": "code",
      "source": [
        "print(valorizacao_media.sort_values(ascending=False))"
      ],
      "metadata": {
        "id": "0zvVoZKmK0dH"
      },
      "execution_count": null,
      "outputs": []
    },
    {
      "cell_type": "code",
      "source": [
        "print(valorizacao_media.sort_values())"
      ],
      "metadata": {
        "id": "xFuZ_SnZLCm4"
      },
      "execution_count": null,
      "outputs": []
    }
  ]
}
